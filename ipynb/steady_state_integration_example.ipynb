{
 "cells": [
  {
   "cell_type": "markdown",
   "metadata": {},
   "source": [
    "# The cooling_flow package"
   ]
  },
  {
   "cell_type": "markdown",
   "metadata": {},
   "source": [
    "In [Stern et al. (2019a)](http://ui.adsabs.harvard.edu/abs/2019MNRAS.488.2549S) and [Stern et al. (2020)](https://ui.adsabs.harvard.edu/abs/2020MNRAS.492.6042S/abstract) we demonstrated that the volume-filling gas phase in dark matter halos converges onto a one-parameter family of solutions, assuming ongoing heating by feedback is negligible. \n",
    "The cooling_flow package derives these solutions by integrating the spherical, steady-state flow equations for radiatively-cooling gas in a constant background potential. These solutions can thus be useful for:\n",
    "* Estimating halo gas structure between feedback bursts or after feedback has died out at low redshift\n",
    "* As a benchmark for estimating the effects of feedback on halo gas in observations and simulations\n",
    "* Initial conditions for simulations of halo gas\n",
    "* Other systems with similar conditions, such as the center of elliptical galaxies (e.g. Quataert & Narayan 2000). \n",
    "\n",
    "The package integrates two types of solutions -- transonic solutions with an outer subsonic flow and an inner supersonic flow, and a purely subsonic flow which stalls at the radius of rotational support (the 'circularization radius'). Details of the methodology, physical motivation and reasoning behind these integrations are described in the above papers. Please send any questions or suggestions to sternjon@tauex.tau.ac.il\n",
    "\n",
    "_Jonathan Stern_"
   ]
  },
  {
   "cell_type": "markdown",
   "metadata": {},
   "source": [
    "## A. Installation\n",
    "* Download using `git clone https://jonathanstern@bitbucket.org/jonathanstern/cooling_flow.git`\n",
    "* After cloning, you can interactively walk through this Python notebook (e.g. `jupyter-lab example.ipynb`)\n",
    "* Required libraries: numpy, scipy, astropy"
   ]
  },
  {
   "cell_type": "markdown",
   "metadata": {},
   "source": [
    "## B. Integration"
   ]
  },
  {
   "cell_type": "code",
   "execution_count": 1,
   "metadata": {},
   "outputs": [
    {
     "name": "stderr",
     "output_type": "stream",
     "text": [
      "/mnt/sw/nix/store/71ksmx7k6xy3v9ksfkv5mp5kxxp64pd6-python-3.10.13-view/lib/python3.10/site-packages/numpy/core/getlimits.py:549: UserWarning: The value of the smallest subnormal for <class 'numpy.float64'> type is zero.\n",
      "  setattr(self, word, getattr(machar, word).flat[0])\n",
      "/mnt/sw/nix/store/71ksmx7k6xy3v9ksfkv5mp5kxxp64pd6-python-3.10.13-view/lib/python3.10/site-packages/numpy/core/getlimits.py:89: UserWarning: The value of the smallest subnormal for <class 'numpy.float64'> type is zero.\n",
      "  return self._float_to_str(self.smallest_subnormal)\n"
     ]
    }
   ],
   "source": [
    "import sys\n",
    "from astropy import units as un, constants as cons\n",
    "import numpy as np"
   ]
  },
  {
   "cell_type": "code",
   "execution_count": 2,
   "metadata": {},
   "outputs": [
    {
     "name": "stderr",
     "output_type": "stream",
     "text": [
      "/mnt/sw/nix/store/71ksmx7k6xy3v9ksfkv5mp5kxxp64pd6-python-3.10.13-view/lib/python3.10/site-packages/numpy/core/getlimits.py:549: UserWarning: The value of the smallest subnormal for <class 'numpy.float32'> type is zero.\n",
      "  setattr(self, word, getattr(machar, word).flat[0])\n",
      "/mnt/sw/nix/store/71ksmx7k6xy3v9ksfkv5mp5kxxp64pd6-python-3.10.13-view/lib/python3.10/site-packages/numpy/core/getlimits.py:89: UserWarning: The value of the smallest subnormal for <class 'numpy.float32'> type is zero.\n",
      "  return self._float_to_str(self.smallest_subnormal)\n"
     ]
    }
   ],
   "source": [
    "sys.path.append('../pysrc/') #assuming notebook run from ipynb/ directory \n",
    "import cooling_flow as CF"
   ]
  },
  {
   "cell_type": "markdown",
   "metadata": {},
   "source": [
    "#### 1. define potential"
   ]
  },
  {
   "cell_type": "code",
   "execution_count": 3,
   "metadata": {},
   "outputs": [],
   "source": [
    "# any class which inherits CF.Potential and implements the base class methods can be used as a potential\n",
    "# several examples are implemented in the module HaloPotential\n",
    "# this example initializes the potential to a power-law with v_c = 200*(r/R_vir)^-0.2\n",
    "import HaloPotential as Halo\n",
    "potential = Halo.PowerLaw(m=-0.1,vc_Rvir=150*un.km/un.s,Rvir=200*un.kpc)"
   ]
  },
  {
   "cell_type": "markdown",
   "metadata": {},
   "source": [
    "#### 2. define cooling function"
   ]
  },
  {
   "cell_type": "code",
   "execution_count": 4,
   "metadata": {},
   "outputs": [
    {
     "name": "stderr",
     "output_type": "stream",
     "text": [
      "/mnt/home/btan1/Work/CGM_ICs/ipynb/../pysrc/WiersmaCooling.py:53: RuntimeWarning: invalid value encountered in log10\n",
      "  vals = log(self.LAMBDA(X*un.K,Y*un.cm**-3).value)\n"
     ]
    }
   ],
   "source": [
    "# any class which inherits CF.Cooling and implements the base class methods can be used as cooling function\n",
    "# WiersmaCooling tables are implemented in the module WiersmaCooling (requires h5py)\n",
    "import WiersmaCooling as Cool\n",
    "Z2Zsun = 1/3.\n",
    "z = 0.\n",
    "cooling = Cool.Wiersma_Cooling(Z2Zsun,z)"
   ]
  },
  {
   "cell_type": "markdown",
   "metadata": {},
   "source": [
    "#### 3a. integrate transonic solution"
   ]
  },
  {
   "cell_type": "code",
   "execution_count": 5,
   "metadata": {},
   "outputs": [
    {
     "name": "stdout",
     "output_type": "stream",
     "text": [
      "R_sonic = 1.0 kpc\n",
      "Integrated with v_c^2/c_s^2 (R_sonic) =1.000010;  maximum r=3 kpc; stop reason: unbound\n",
      "Integrated with v_c^2/c_s^2 (R_sonic) =1.500005;  no transsonic solutions\n",
      "Integrated with v_c^2/c_s^2 (R_sonic) =1.250008;  maximum r=12 kpc; stop reason: unbound\n",
      "Integrated with v_c^2/c_s^2 (R_sonic) =1.375006;  maximum r=88 kpc; stop reason: unbound\n",
      "Integrated with v_c^2/c_s^2 (R_sonic) =1.437506;  no transsonic solutions\n",
      "Integrated with v_c^2/c_s^2 (R_sonic) =1.406256;  no transsonic solutions\n",
      "Integrated with v_c^2/c_s^2 (R_sonic) =1.390631;  maximum r=58 kpc; stop reason: sonic point\n",
      "Integrated with v_c^2/c_s^2 (R_sonic) =1.382819;  maximum r=150 kpc; stop reason: unbound\n",
      "Integrated with v_c^2/c_s^2 (R_sonic) =1.386725;  maximum r=300 kpc; stop reason: unbound\n",
      "Integrated with v_c^2/c_s^2 (R_sonic) =1.388678;  maximum r=1159 kpc; stop reason: sonic point\n",
      "Integrated with v_c^2/c_s^2 (R_sonic) =1.387701;  maximum r=499 kpc; stop reason: unbound\n",
      "Integrated with v_c^2/c_s^2 (R_sonic) =1.388190;  maximum r=947 kpc; stop reason: unbound\n",
      "Integrated with v_c^2/c_s^2 (R_sonic) =1.388434;  maximum r=1999 kpc; stop reason: max R reached\n",
      "Inward integration of supersonic part reached r = 0.111 kpc\n",
      "R_sonic = 30.0 kpc\n",
      "Integrated with v_c^2/c_s^2 (R_sonic) =1.000010;  maximum r=89 kpc; stop reason: unbound\n",
      "Integrated with v_c^2/c_s^2 (R_sonic) =1.500005;  no transsonic solutions\n",
      "Integrated with v_c^2/c_s^2 (R_sonic) =1.250008;  maximum r=221 kpc; stop reason: unbound\n",
      "Integrated with v_c^2/c_s^2 (R_sonic) =1.375006;  maximum r=1999 kpc; stop reason: max R reached\n",
      "Inward integration of supersonic part reached r = 0.242 kpc\n"
     ]
    }
   ],
   "source": [
    "max_step = 0.1                         #lowest resolution of solution in ln(r)\n",
    "R_min    = 0.1*un.kpc                  #inner radius of supersonic part of solution\n",
    "R_max    = 10.*potential.Rvir          #outer radius of integration\n",
    "R_sonics  = np.array([1.,30.])*un.kpc  #sonic radii\n",
    "transsonic_solutions = []\n",
    "for R_sonic in R_sonics:\n",
    "    print('R_sonic = %s'%R_sonic)\n",
    "    transsonic_solutions.append(CF.shoot_from_sonic_point(potential,\n",
    "                                                    cooling,\n",
    "                                                    R_sonic,\n",
    "                                                    R_max,\n",
    "                                                    R_min,\n",
    "                                                    max_step=max_step,\n",
    "                                                    pr=True))\n",
    "                        "
   ]
  },
  {
   "cell_type": "markdown",
   "metadata": {},
   "source": [
    "#### 3b. integrate solution which stalls at circularization radius"
   ]
  },
  {
   "cell_type": "code",
   "execution_count": 6,
   "metadata": {},
   "outputs": [
    {
     "name": "stdout",
     "output_type": "stream",
     "text": [
      "Mdot = 1.0 solMass / yr\n",
      "Integrated with log T(R_circ)=4.50, maximum radius reached 49 kpc, stop reason: sonic point\n",
      "Integrated with log T(R_circ)=4.75, maximum radius reached 175 kpc, stop reason: unbound\n",
      "Integrated with log T(R_circ)=4.62, maximum radius reached 226 kpc, stop reason: sonic point\n",
      "Integrated with log T(R_circ)=4.69, maximum radius reached 449 kpc, stop reason: unbound\n",
      "Integrated with log T(R_circ)=4.66, maximum radius reached 875 kpc, stop reason: sonic point\n",
      "Integrated with log T(R_circ)=4.67, maximum radius reached 1999 kpc, stop reason: max R reached\n",
      "Mdot = 50.0 solMass / yr\n",
      "Integrated with log T(R_circ)=4.50, maximum radius reached 25 kpc, stop reason: unbound\n",
      "Integrated with log T(R_circ)=4.25, maximum radius reached 53 kpc, stop reason: unbound\n"
     ]
    },
    {
     "name": "stderr",
     "output_type": "stream",
     "text": [
      "/Users/jonathanstern/Dropbox/github_repositories/CGM_ICs/ipynb/../pysrc/cooling_flow.py:157: RuntimeWarning: overflow encountered in double_scalars\n",
      "  rho,T=e**ln_rho*un.g/un.cm**3, e**ln_T*un.K\n",
      "/Users/jonathanstern/opt/anaconda3/lib/python3.9/site-packages/astropy/units/quantity.py:666: RuntimeWarning: invalid value encountered in true_divide\n",
      "  result = super().__array_ufunc__(function, method, *arrays, **kwargs)\n",
      "/Users/jonathanstern/opt/anaconda3/lib/python3.9/site-packages/astropy/units/quantity.py:666: RuntimeWarning: divide by zero encountered in true_divide\n",
      "  result = super().__array_ufunc__(function, method, *arrays, **kwargs)\n",
      "/Users/jonathanstern/Dropbox/github_repositories/CGM_ICs/ipynb/../pysrc/WiersmaCooling.py:59: RuntimeWarning: divide by zero encountered in log10\n",
      "  return self.f_Cooling((log(T.to('K').value), log(nH.to('cm**-3').value))) * un.erg*un.cm**3/un.s\n",
      "/Users/jonathanstern/opt/anaconda3/lib/python3.9/site-packages/scipy/interpolate/interpolate.py:2546: RuntimeWarning: invalid value encountered in add\n",
      "  values += np.asarray(self.values[edge_indices]) * weight[vslice]\n",
      "/Users/jonathanstern/opt/anaconda3/lib/python3.9/site-packages/astropy/units/quantity.py:666: RuntimeWarning: invalid value encountered in multiply\n",
      "  result = super().__array_ufunc__(function, method, *arrays, **kwargs)\n"
     ]
    },
    {
     "name": "stdout",
     "output_type": "stream",
     "text": [
      "Integrated with log T(R_circ)=4.12, maximum radius reached 149 kpc, stop reason: unbound\n",
      "Integrated with log T(R_circ)=4.06, maximum radius reached 12 kpc, stop reason: sonic point\n",
      "Integrated with log T(R_circ)=4.09, maximum radius reached 14 kpc, stop reason: sonic point\n",
      "Integrated with log T(R_circ)=4.11, maximum radius reached 252 kpc, stop reason: unbound\n",
      "Integrated with log T(R_circ)=4.10, maximum radius reached 904 kpc, stop reason: unbound\n",
      "Integrated with log T(R_circ)=4.10, maximum radius reached 65 kpc, stop reason: sonic point\n",
      "Integrated with log T(R_circ)=4.10, maximum radius reached 385 kpc, stop reason: sonic point\n",
      "Integrated with log T(R_circ)=4.10, maximum radius reached 1999 kpc, stop reason: max R reached\n"
     ]
    }
   ],
   "source": [
    "max_step = 0.1                             #lowest resolution of solution in ln(r)\n",
    "R_circ   = 0.05 * potential.Rvir           #circularization radius\n",
    "R_max    = 10.  * potential.Rvir           #outer radius of integration\n",
    "Mdots  = np.array([1.,50.])*un.Msun/un.yr  # mass inflow rates\n",
    "stalled_solutions = []\n",
    "for Mdot in Mdots:\n",
    "    print('Mdot = %s'%Mdot)\n",
    "    stalled_solutions.append( CF.shoot_from_R_circ(potential,\n",
    "                                                   cooling,\n",
    "                                                   R_circ,\n",
    "                                                   Mdot,\n",
    "                                                   R_max,\n",
    "                                                   max_step=max_step,\n",
    "                                                   pr=True))"
   ]
  },
  {
   "cell_type": "markdown",
   "metadata": {},
   "source": [
    "## C. Plotting"
   ]
  },
  {
   "cell_type": "code",
   "execution_count": 7,
   "metadata": {},
   "outputs": [],
   "source": [
    "import pylab as pl\n",
    "import matplotlib\n",
    "# some figure definitions\n",
    "matplotlib.rcParams['mathtext.fontset'] = 'cm'\n",
    "matplotlib.rc('font', family='serif', size=12)\n",
    "matplotlib.rcParams['xtick.direction'] = 'in'\n",
    "matplotlib.rcParams['ytick.direction'] = 'in'\n",
    "matplotlib.rcParams['xtick.top'] = True\n",
    "matplotlib.rcParams['ytick.right'] = True"
   ]
  },
  {
   "cell_type": "code",
   "execution_count": 8,
   "metadata": {},
   "outputs": [
    {
     "ename": "AttributeError",
     "evalue": "'IntegrationResult' object has no attribute 'vr'",
     "output_type": "error",
     "traceback": [
      "\u001b[0;31m---------------------------------------------------------------------------\u001b[0m",
      "\u001b[0;31mAttributeError\u001b[0m                            Traceback (most recent call last)",
      "\u001b[0;32m/var/folders/qg/7mjbrncj6tg4pn8hk8h33jbw0000gn/T/ipykernel_31148/2233533004.py\u001b[0m in \u001b[0;36m<module>\u001b[0;34m\u001b[0m\n\u001b[1;32m     10\u001b[0m         \u001b[0;32mif\u001b[0m \u001b[0miPanel\u001b[0m\u001b[0;34m==\u001b[0m\u001b[0;36m1\u001b[0m\u001b[0;34m:\u001b[0m \u001b[0mys\u001b[0m \u001b[0;34m=\u001b[0m \u001b[0mres\u001b[0m\u001b[0;34m.\u001b[0m\u001b[0mnHs\u001b[0m\u001b[0;34m(\u001b[0m\u001b[0;34m)\u001b[0m\u001b[0;34m\u001b[0m\u001b[0;34m\u001b[0m\u001b[0m\n\u001b[1;32m     11\u001b[0m         \u001b[0;32mif\u001b[0m \u001b[0miPanel\u001b[0m\u001b[0;34m==\u001b[0m\u001b[0;36m2\u001b[0m\u001b[0;34m:\u001b[0m \u001b[0mys\u001b[0m \u001b[0;34m=\u001b[0m \u001b[0mres\u001b[0m\u001b[0;34m.\u001b[0m\u001b[0mMs\u001b[0m\u001b[0;34m(\u001b[0m\u001b[0;34m)\u001b[0m\u001b[0;34m\u001b[0m\u001b[0;34m\u001b[0m\u001b[0m\n\u001b[0;32m---> 12\u001b[0;31m         \u001b[0;32mif\u001b[0m \u001b[0miPanel\u001b[0m\u001b[0;34m==\u001b[0m\u001b[0;36m3\u001b[0m\u001b[0;34m:\u001b[0m \u001b[0mys\u001b[0m \u001b[0;34m=\u001b[0m \u001b[0mres\u001b[0m\u001b[0;34m.\u001b[0m\u001b[0mt_cools\u001b[0m\u001b[0;34m(\u001b[0m\u001b[0;34m)\u001b[0m \u001b[0;34m/\u001b[0m \u001b[0mres\u001b[0m\u001b[0;34m.\u001b[0m\u001b[0mt_flows\u001b[0m\u001b[0;34m(\u001b[0m\u001b[0;34m)\u001b[0m\u001b[0;34m\u001b[0m\u001b[0;34m\u001b[0m\u001b[0m\n\u001b[0m\u001b[1;32m     13\u001b[0m         \u001b[0mpl\u001b[0m\u001b[0;34m.\u001b[0m\u001b[0mloglog\u001b[0m\u001b[0;34m(\u001b[0m\u001b[0mres\u001b[0m\u001b[0;34m.\u001b[0m\u001b[0mRs\u001b[0m\u001b[0;34m(\u001b[0m\u001b[0;34m)\u001b[0m\u001b[0;34m,\u001b[0m\u001b[0mys\u001b[0m\u001b[0;34m,\u001b[0m\u001b[0mc\u001b[0m\u001b[0;34m=\u001b[0m\u001b[0mc\u001b[0m\u001b[0;34m,\u001b[0m\u001b[0mls\u001b[0m\u001b[0;34m=\u001b[0m\u001b[0mls\u001b[0m\u001b[0;34m,\u001b[0m\u001b[0mlabel\u001b[0m\u001b[0;34m=\u001b[0m\u001b[0mlabel\u001b[0m\u001b[0;34m)\u001b[0m\u001b[0;34m\u001b[0m\u001b[0;34m\u001b[0m\u001b[0m\n\u001b[1;32m     14\u001b[0m         \u001b[0mpl\u001b[0m\u001b[0;34m.\u001b[0m\u001b[0mxlim\u001b[0m\u001b[0;34m(\u001b[0m\u001b[0;36m1\u001b[0m\u001b[0;34m,\u001b[0m\u001b[0;36m300\u001b[0m\u001b[0;34m)\u001b[0m\u001b[0;34m\u001b[0m\u001b[0;34m\u001b[0m\u001b[0m\n",
      "\u001b[0;32m~/Dropbox/github_repositories/CGM_ICs/ipynb/../pysrc/cooling_flow.py\u001b[0m in \u001b[0;36mt_flows\u001b[0;34m(self)\u001b[0m\n\u001b[1;32m    647\u001b[0m     \u001b[0;32mdef\u001b[0m \u001b[0mt_flows\u001b[0m\u001b[0;34m(\u001b[0m\u001b[0mself\u001b[0m\u001b[0;34m)\u001b[0m\u001b[0;34m:\u001b[0m\u001b[0;34m\u001b[0m\u001b[0;34m\u001b[0m\u001b[0m\n\u001b[1;32m    648\u001b[0m         \u001b[0;34m\"\"\"flow times (r/v) of the solution at all radii\"\"\"\u001b[0m\u001b[0;34m\u001b[0m\u001b[0;34m\u001b[0m\u001b[0m\n\u001b[0;32m--> 649\u001b[0;31m         \u001b[0;32mreturn\u001b[0m \u001b[0;34m(\u001b[0m\u001b[0mself\u001b[0m\u001b[0;34m.\u001b[0m\u001b[0mRs\u001b[0m\u001b[0;34m(\u001b[0m\u001b[0;34m)\u001b[0m\u001b[0;34m/\u001b[0m\u001b[0mself\u001b[0m\u001b[0;34m.\u001b[0m\u001b[0mvr\u001b[0m\u001b[0;34m(\u001b[0m\u001b[0;34m)\u001b[0m\u001b[0;34m)\u001b[0m\u001b[0;34m.\u001b[0m\u001b[0mto\u001b[0m\u001b[0;34m(\u001b[0m\u001b[0;34m'Gyr'\u001b[0m\u001b[0;34m)\u001b[0m\u001b[0;34m\u001b[0m\u001b[0;34m\u001b[0m\u001b[0m\n\u001b[0m\u001b[1;32m    650\u001b[0m     \u001b[0;32mdef\u001b[0m \u001b[0mt_cools\u001b[0m\u001b[0;34m(\u001b[0m\u001b[0mself\u001b[0m\u001b[0;34m)\u001b[0m\u001b[0;34m:\u001b[0m\u001b[0;34m\u001b[0m\u001b[0;34m\u001b[0m\u001b[0m\n\u001b[1;32m    651\u001b[0m         \u001b[0;34m\"\"\"cooling times of the solution at all radii\"\"\"\u001b[0m\u001b[0;34m\u001b[0m\u001b[0;34m\u001b[0m\u001b[0m\n",
      "\u001b[0;31mAttributeError\u001b[0m: 'IntegrationResult' object has no attribute 'vr'"
     ]
    },
    {
     "data": {
      "image/png": "[encoded data removed]",
      "text/plain": [
       "<Figure size 504x504 with 4 Axes>"
      ]
     },
     "metadata": {
      "needs_background": "light"
     },
     "output_type": "display_data"
    }
   ],
   "source": [
    "fig = pl.figure(figsize=(7,7))\n",
    "pl.subplots_adjust(hspace=0.4,wspace=0.5)\n",
    "for iPanel in range(4):\n",
    "    pl.subplot(2,2,iPanel+1)\n",
    "    for ires,res in enumerate(stalled_solutions+transsonic_solutions):\n",
    "        c= 'br'[ires//2]\n",
    "        ls = ('-','--')[ires%2]\n",
    "        label = r'$\\dot{M} = %d$'%res.Mdot.value\n",
    "        if iPanel==0: ys = res.Ts()\n",
    "        if iPanel==1: ys = res.nHs()\n",
    "        if iPanel==2: ys = res.Ms()\n",
    "        if iPanel==3: ys = res.t_cools() / res.t_flows()\n",
    "        pl.loglog(res.Rs(),ys,c=c,ls=ls,label=label)\n",
    "        pl.xlim(1,300)\n",
    "        pl.xlabel(r'$r$ [kpc]')\n",
    "        if iPanel==0:\n",
    "            pl.ylabel(r'temperature [K]')\n",
    "            pl.ylim(1e4,1e7)            \n",
    "        if iPanel==1: \n",
    "            pl.ylabel(r'hydrogen density [cm$^{-3}$]')\n",
    "            pl.ylim(1e-5,1)\n",
    "            pl.legend(loc='lower left',fontsize=10,handlelength=1.2)\n",
    "        if iPanel==2: \n",
    "            pl.ylabel(r'mach number')\n",
    "            pl.ylim(0.03,30)\n",
    "            pl.axhline(1.,c='.5',lw=0.5)\n",
    "        if iPanel==3: \n",
    "            pl.ylabel(r'$v_r / (r/t_{\\rm cool})$')\n",
    "            pl.ylim(0.03,30)\n",
    "            pl.axhline(1.,c='.5',lw=0.5)"
   ]
  },
  {
   "cell_type": "code",
   "execution_count": 9,
   "metadata": {},
   "outputs": [],
   "source": [
    "import pdb"
   ]
  },
  {
   "cell_type": "code",
   "execution_count": null,
   "metadata": {},
   "outputs": [
    {
     "name": "stdout",
     "output_type": "stream",
     "text": [
      "> \u001b[0;32m/Users/jonathanstern/Dropbox/github_repositories/CGM_ICs/pysrc/cooling_flow.py\u001b[0m(649)\u001b[0;36mt_flows\u001b[0;34m()\u001b[0m\n",
      "\u001b[0;32m    647 \u001b[0;31m    \u001b[0;32mdef\u001b[0m \u001b[0mt_flows\u001b[0m\u001b[0;34m(\u001b[0m\u001b[0mself\u001b[0m\u001b[0;34m)\u001b[0m\u001b[0;34m:\u001b[0m\u001b[0;34m\u001b[0m\u001b[0;34m\u001b[0m\u001b[0m\n",
      "\u001b[0m\u001b[0;32m    648 \u001b[0;31m        \u001b[0;34m\"\"\"flow times (r/v) of the solution at all radii\"\"\"\u001b[0m\u001b[0;34m\u001b[0m\u001b[0;34m\u001b[0m\u001b[0m\n",
      "\u001b[0m\u001b[0;32m--> 649 \u001b[0;31m        \u001b[0;32mreturn\u001b[0m \u001b[0;34m(\u001b[0m\u001b[0mself\u001b[0m\u001b[0;34m.\u001b[0m\u001b[0mRs\u001b[0m\u001b[0;34m(\u001b[0m\u001b[0;34m)\u001b[0m\u001b[0;34m/\u001b[0m\u001b[0mself\u001b[0m\u001b[0;34m.\u001b[0m\u001b[0mvr\u001b[0m\u001b[0;34m(\u001b[0m\u001b[0;34m)\u001b[0m\u001b[0;34m)\u001b[0m\u001b[0;34m.\u001b[0m\u001b[0mto\u001b[0m\u001b[0;34m(\u001b[0m\u001b[0;34m'Gyr'\u001b[0m\u001b[0;34m)\u001b[0m\u001b[0;34m\u001b[0m\u001b[0;34m\u001b[0m\u001b[0m\n",
      "\u001b[0m\u001b[0;32m    650 \u001b[0;31m    \u001b[0;32mdef\u001b[0m \u001b[0mt_cools\u001b[0m\u001b[0;34m(\u001b[0m\u001b[0mself\u001b[0m\u001b[0;34m)\u001b[0m\u001b[0;34m:\u001b[0m\u001b[0;34m\u001b[0m\u001b[0;34m\u001b[0m\u001b[0m\n",
      "\u001b[0m\u001b[0;32m    651 \u001b[0;31m        \u001b[0;34m\"\"\"cooling times of the solution at all radii\"\"\"\u001b[0m\u001b[0;34m\u001b[0m\u001b[0;34m\u001b[0m\u001b[0m\n",
      "\u001b[0m\n",
      "ipdb> p self.vs()\n",
      "<Quantity [ 0.82644628,  1.0875759 ,  1.35774206,  1.61934593,  1.87457435,\n",
      "            2.08065153,  2.35559862,  2.67719827,  3.10863319,  3.52312792,\n",
      "            4.09812703,  4.55629709,  5.01250819,  5.69097504,  6.09673778,\n",
      "            6.5810598 ,  7.09178603,  7.59365385,  8.36302359,  9.41579389,\n",
      "           10.74114651, 11.77074777, 12.73838011, 13.67327859, 14.81390899,\n",
      "           15.46041222, 15.86689307, 15.91938563, 15.77276375, 15.5071849 ,\n",
      "           15.16805917, 14.78316466, 14.3695325 , 13.93814441, 13.49633921,\n",
      "           13.04963021, 12.6009667 , 12.15175792, 11.70354334, 11.25919054,\n",
      "           10.82137811, 10.39199481,  9.97238464,  9.56269713,  9.16277556,\n",
      "            8.77260363,  8.39091337,  8.01778434,  7.65432022,  7.30082893,\n",
      "            6.95692961,  6.62169288,  6.29473194,  5.97628977,  5.66669545,\n",
      "            5.35046912,  5.02200301,  4.69634396,  4.38001407,  4.07866118,\n",
      "            3.79331309,  3.52488772,  3.27774077,  3.05327932,  2.84611132,\n",
      "            2.65428771,  2.47850652,  2.31710359,  2.16872409,  2.03202943,\n",
      "            1.90578614,  1.78891228,  1.68056878,  1.58063795,  1.48865917,\n",
      "            1.44678545] km / s>\n"
     ]
    }
   ],
   "source": [
    "pdb.pm()"
   ]
  },
  {
   "cell_type": "code",
   "execution_count": null,
   "metadata": {},
   "outputs": [],
   "source": []
  }
 ],
 "metadata": {
  "kernelspec": {
   "display_name": "diffrax",
   "language": "python",
   "name": "diffrax"
  },
  "language_info": {
   "codemirror_mode": {
    "name": "ipython",
    "version": 3
   },
   "file_extension": ".py",
   "mimetype": "text/x-python",
   "name": "python",
   "nbconvert_exporter": "python",
   "pygments_lexer": "ipython3",
   "version": "3.10.13"
  }
 },
 "nbformat": 4,
 "nbformat_minor": 4
}
